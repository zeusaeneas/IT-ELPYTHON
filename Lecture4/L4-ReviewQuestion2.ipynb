{
 "cells": [
  {
   "cell_type": "markdown",
   "id": "29f114e4-d8bb-4df6-8174-4f1175f7a67e",
   "metadata": {},
   "source": [
    "# Review Question 2"
   ]
  },
  {
   "cell_type": "code",
   "execution_count": 7,
   "id": "97c60754-9ac0-4e41-a5e2-44e481823610",
   "metadata": {},
   "outputs": [
    {
     "name": "stdout",
     "output_type": "stream",
     "text": [
      "False\n",
      "False\n",
      "True\n",
      "False\n"
     ]
    }
   ],
   "source": [
    "print((1 <= 1) and (1 != 1))\n",
    "print(not (1 != 2))\n",
    "print((\"good\" != \"bad\") or false)\n",
    "print((\"good\" != \"Good\") and  not (1 == 1))"
   ]
  },
  {
   "cell_type": "code",
   "execution_count": 17,
   "id": "c8db2ec3-fe7d-4d5d-9585-1b1677d94303",
   "metadata": {},
   "outputs": [
    {
     "name": "stdout",
     "output_type": "stream",
     "text": [
      "True\n",
      "True\n",
      "True\n"
     ]
    }
   ],
   "source": [
    "print(False == (not True))\n",
    "print(True and False == (True and False))\n",
    "print(not (True and \"A\" == \"B\"))"
   ]
  },
  {
   "cell_type": "code",
   "execution_count": null,
   "id": "1aa358e4-fcf4-4038-b88f-6b8c4319d1ef",
   "metadata": {},
   "outputs": [],
   "source": []
  }
 ],
 "metadata": {
  "kernelspec": {
   "display_name": "Python 3 (ipykernel)",
   "language": "python",
   "name": "python3"
  },
  "language_info": {
   "codemirror_mode": {
    "name": "ipython",
    "version": 3
   },
   "file_extension": ".py",
   "mimetype": "text/x-python",
   "name": "python",
   "nbconvert_exporter": "python",
   "pygments_lexer": "ipython3",
   "version": "3.13.5"
  }
 },
 "nbformat": 4,
 "nbformat_minor": 5
}
