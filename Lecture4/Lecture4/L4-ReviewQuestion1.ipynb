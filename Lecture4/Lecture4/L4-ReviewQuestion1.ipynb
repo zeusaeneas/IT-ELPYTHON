{
 "cells": [
  {
   "cell_type": "markdown",
   "id": "5e9da956-1ff3-40cc-8891-a720e938bdce",
   "metadata": {},
   "source": [
    "# Review Question 1"
   ]
  },
  {
   "cell_type": "code",
   "execution_count": 8,
   "id": "54c09722-a250-4298-9745-4b49d72c262e",
   "metadata": {},
   "outputs": [
    {
     "name": "stdout",
     "output_type": "stream",
     "text": [
      "True\n",
      "False\n",
      "True\n",
      "True\n",
      "True\n",
      "False\n"
     ]
    }
   ],
   "source": [
    "print(1 <= 1)\n",
    "print(1 != 1)\n",
    "print(1 != 2)\n",
    "print(\"good\" != \"bad\")\n",
    "print(\"good\" != \"Good\")\n",
    "print(123 == \"123\")"
   ]
  },
  {
   "cell_type": "code",
   "execution_count": 12,
   "id": "d774eb16-fe3f-4557-984c-46e93bafd56e",
   "metadata": {},
   "outputs": [
    {
     "name": "stdout",
     "output_type": "stream",
     "text": [
      "True\n",
      "True\n",
      "True\n",
      "True\n"
     ]
    }
   ],
   "source": [
    "print(3 < 4)\n",
    "print(10 > 5)\n",
    "print(\"jack\" != \"jill\")\n",
    "print(42 != \"42\")"
   ]
  },
  {
   "cell_type": "code",
   "execution_count": null,
   "id": "df817a78-8259-484b-847e-d6e717c6ddc4",
   "metadata": {},
   "outputs": [],
   "source": []
  }
 ],
 "metadata": {
  "kernelspec": {
   "display_name": "Python 3 (ipykernel)",
   "language": "python",
   "name": "python3"
  },
  "language_info": {
   "codemirror_mode": {
    "name": "ipython",
    "version": 3
   },
   "file_extension": ".py",
   "mimetype": "text/x-python",
   "name": "python",
   "nbconvert_exporter": "python",
   "pygments_lexer": "ipython3",
   "version": "3.13.5"
  }
 },
 "nbformat": 4,
 "nbformat_minor": 5
}
