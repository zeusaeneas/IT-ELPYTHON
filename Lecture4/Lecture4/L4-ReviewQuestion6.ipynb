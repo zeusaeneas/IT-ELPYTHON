{
 "cells": [
  {
   "cell_type": "markdown",
   "id": "c73c08e5-f7cc-492b-a19e-7a9ad25d1f31",
   "metadata": {},
   "source": [
    "# Review Question 6"
   ]
  },
  {
   "cell_type": "code",
   "execution_count": 1,
   "id": "75173105-5a5f-4b9e-82af-825b26935677",
   "metadata": {},
   "outputs": [
    {
     "name": "stdout",
     "output_type": "stream",
     "text": [
      "You rolled: 4\n",
      "You rolled: 2\n",
      "You rolled: 6\n",
      "You rolled: 5\n",
      "You rolled: 4\n"
     ]
    }
   ],
   "source": [
    "import random\n",
    "\n",
    "def roll():\n",
    "    return random.randint(1, 6)\n",
    "for i in range(5):\n",
    "    print(\"You rolled:\", roll())"
   ]
  },
  {
   "cell_type": "code",
   "execution_count": 2,
   "id": "bae7fa73-f549-4a51-bdaa-b673f71f231b",
   "metadata": {},
   "outputs": [
    {
     "name": "stdout",
     "output_type": "stream",
     "text": [
      "Average number rolled after 10,000 rolls: 3.4871\n"
     ]
    }
   ],
   "source": [
    "import random\n",
    "\n",
    "def roll():\n",
    "    return random.randint(1, 6)\n",
    "\n",
    "def simulate_rolls(num_rolls=10000):\n",
    "    total = 0\n",
    "    for _ in range(num_rolls):\n",
    "        total += roll()\n",
    "    average = total / num_rolls\n",
    "    return average\n",
    "\n",
    "\n",
    "print(\"Average number rolled after 10,000 rolls:\", simulate_rolls())"
   ]
  },
  {
   "cell_type": "code",
   "execution_count": null,
   "id": "cb9c10ef-c50c-4b18-b941-9f62eaa10dc1",
   "metadata": {},
   "outputs": [],
   "source": []
  }
 ],
 "metadata": {
  "kernelspec": {
   "display_name": "Python [conda env:base] *",
   "language": "python",
   "name": "conda-base-py"
  },
  "language_info": {
   "codemirror_mode": {
    "name": "ipython",
    "version": 3
   },
   "file_extension": ".py",
   "mimetype": "text/x-python",
   "name": "python",
   "nbconvert_exporter": "python",
   "pygments_lexer": "ipython3",
   "version": "3.13.5"
  }
 },
 "nbformat": 4,
 "nbformat_minor": 5
}
