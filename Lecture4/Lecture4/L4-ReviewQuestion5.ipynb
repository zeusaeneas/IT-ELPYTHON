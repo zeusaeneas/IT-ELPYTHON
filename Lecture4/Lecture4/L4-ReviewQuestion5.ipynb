{
 "cells": [
  {
   "cell_type": "markdown",
   "id": "96577457-19ca-4ddb-9a44-b395322dd1be",
   "metadata": {},
   "source": [
    "# Review Question 5    "
   ]
  },
  {
   "cell_type": "code",
   "execution_count": 4,
   "id": "bd156b92-785a-49a0-afa7-5c22dfeaf66a",
   "metadata": {},
   "outputs": [
    {
     "name": "stdin",
     "output_type": "stream",
     "text": [
      "Please enter an integer:  j\n"
     ]
    },
    {
     "name": "stdout",
     "output_type": "stream",
     "text": [
      "That was not an integer. Try again.\n"
     ]
    },
    {
     "name": "stdin",
     "output_type": "stream",
     "text": [
      "Please enter an integer:  5\n"
     ]
    },
    {
     "name": "stdout",
     "output_type": "stream",
     "text": [
      "You entered the integer: 5\n"
     ]
    }
   ],
   "source": [
    "while True:\n",
    "    try:\n",
    "        user_input = input(\"Please enter an integer: \")\n",
    "        number = int(user_input)\n",
    "        print(f\"You entered the integer: {number}\")\n",
    "        break \n",
    "    except ValueError:\n",
    "        print(\"That was not an integer. Try again.\")\n"
   ]
  },
  {
   "cell_type": "code",
   "execution_count": 6,
   "id": "2ba395ae-349b-4bf3-b02c-e66876102c70",
   "metadata": {},
   "outputs": [
    {
     "name": "stdin",
     "output_type": "stream",
     "text": [
      "Enter a string:  eusi\n",
      "Enter an integer (index):  2\n"
     ]
    },
    {
     "name": "stdout",
     "output_type": "stream",
     "text": [
      "The character at index 2 is: 's'\n"
     ]
    }
   ],
   "source": [
    "try:\n",
    "    user_string = input(\"Enter a string: \")\n",
    "    n = int(input(\"Enter an integer (index): \"))\n",
    "\n",
    "    if n < 0 or n >= len(user_string):\n",
    "        print(\"Index out of range.\")\n",
    "    else:\n",
    "        print(f\"The character at index {n} is: '{user_string[n]}'\")\n",
    "except ValueError:\n",
    "    print(\"Invalid input. Please enter a valid integer for the index.\")\n"
   ]
  },
  {
   "cell_type": "code",
   "execution_count": null,
   "id": "4abb7283-42e4-4037-b40b-43cfaaca991b",
   "metadata": {},
   "outputs": [],
   "source": []
  }
 ],
 "metadata": {
  "kernelspec": {
   "display_name": "Python 3 (ipykernel)",
   "language": "python",
   "name": "python3"
  },
  "language_info": {
   "codemirror_mode": {
    "name": "ipython",
    "version": 3
   },
   "file_extension": ".py",
   "mimetype": "text/x-python",
   "name": "python",
   "nbconvert_exporter": "python",
   "pygments_lexer": "ipython3",
   "version": "3.13.5"
  }
 },
 "nbformat": 4,
 "nbformat_minor": 5
}
