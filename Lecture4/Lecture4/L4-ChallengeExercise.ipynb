{
 "cells": [
  {
   "cell_type": "markdown",
   "id": "7e2616b4-aed3-4863-a9d0-332d5ea953c6",
   "metadata": {},
   "source": [
    "# CHALLENGE EXERCISE"
   ]
  },
  {
   "cell_type": "code",
   "execution_count": 1,
   "id": "60a1027d-f5a0-4c4d-a944-16df6c508fd1",
   "metadata": {},
   "outputs": [
    {
     "name": "stdout",
     "output_type": "stream",
     "text": [
      "Estimated probability that Candidate A wins the election: 0.6283\n"
     ]
    }
   ],
   "source": [
    "import random\n",
    "\n",
    "def simulate_election(trials=100000):\n",
    "    p_region1 = 0.87\n",
    "    p_region2 = 0.65\n",
    "    p_region3 = 0.17\n",
    "    \n",
    "    wins = 0  \n",
    "    \n",
    "    for _ in range(trials):\n",
    "        region1 = random.random() < p_region1\n",
    "        region2 = random.random() < p_region2\n",
    "        region3 = random.random() < p_region3\n",
    "        \n",
    "        regions_won = sum([region1, region2, region3])\n",
    "        \n",
    "        if regions_won >= 2:\n",
    "            wins += 1\n",
    "    \n",
    "    return wins / trials\n",
    "\n",
    "print(\"Estimated probability that Candidate A wins the election:\",\n",
    "      simulate_election())\n"
   ]
  },
  {
   "cell_type": "code",
   "execution_count": null,
   "id": "ea07df81-1c5d-431a-8713-9fbaf64a880f",
   "metadata": {},
   "outputs": [],
   "source": []
  }
 ],
 "metadata": {
  "kernelspec": {
   "display_name": "Python [conda env:base] *",
   "language": "python",
   "name": "conda-base-py"
  },
  "language_info": {
   "codemirror_mode": {
    "name": "ipython",
    "version": 3
   },
   "file_extension": ".py",
   "mimetype": "text/x-python",
   "name": "python",
   "nbconvert_exporter": "python",
   "pygments_lexer": "ipython3",
   "version": "3.13.5"
  }
 },
 "nbformat": 4,
 "nbformat_minor": 5
}
