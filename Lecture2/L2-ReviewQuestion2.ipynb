{
 "cells": [
  {
   "cell_type": "markdown",
   "id": "243eb6e6-8f08-484d-9e2d-a78a1028caf9",
   "metadata": {},
   "source": [
    "# Review Question 2"
   ]
  },
  {
   "cell_type": "code",
   "execution_count": 6,
   "id": "e104af75-66f5-49f7-918b-cc678ea82266",
   "metadata": {},
   "outputs": [
    {
     "name": "stdin",
     "output_type": "stream",
     "text": [
      "Enter a base:  1.2\n",
      "Enter an exponent:  3\n"
     ]
    },
    {
     "data": {
      "text/plain": [
       "1.7279999999999998"
      ]
     },
     "execution_count": 6,
     "metadata": {},
     "output_type": "execute_result"
    }
   ],
   "source": [
    "prompt1 = \"Enter a base: \" \n",
    "prompt2 = \"Enter an exponent: \"\n",
    "num1 = float(input(prompt1))\n",
    "num2 = float(input(prompt2))\n",
    "num1 ** num2"
   ]
  },
  {
   "cell_type": "code",
   "execution_count": null,
   "id": "adb6b9b5-1703-4de9-ba31-09417caa1d23",
   "metadata": {},
   "outputs": [],
   "source": []
  }
 ],
 "metadata": {
  "kernelspec": {
   "display_name": "Python 3 (ipykernel)",
   "language": "python",
   "name": "python3"
  },
  "language_info": {
   "codemirror_mode": {
    "name": "ipython",
    "version": 3
   },
   "file_extension": ".py",
   "mimetype": "text/x-python",
   "name": "python",
   "nbconvert_exporter": "python",
   "pygments_lexer": "ipython3",
   "version": "3.13.5"
  }
 },
 "nbformat": 4,
 "nbformat_minor": 5
}
