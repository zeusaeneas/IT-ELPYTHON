{
 "cells": [
  {
   "cell_type": "markdown",
   "id": "6d016973-5b2d-4aff-bec8-c7c4c610ccde",
   "metadata": {},
   "source": [
    "# Review Question 4"
   ]
  },
  {
   "cell_type": "code",
   "execution_count": 6,
   "id": "d2a77ec5-f9d1-4156-83a8-1c70ff0d231f",
   "metadata": {},
   "outputs": [
    {
     "name": "stdin",
     "output_type": "stream",
     "text": [
      "Enter the first number:  1.5\n",
      "Enter the second number:  1.0\n"
     ]
    },
    {
     "name": "stdout",
     "output_type": "stream",
     "text": [
      "The difference between the numbers is not an integer: 0.5\n"
     ]
    }
   ],
   "source": [
    "num1 = float(input(\"Enter the first number: \"))\n",
    "num2 = float(input(\"Enter the second number: \"))\n",
    "\n",
    "difference = num1 - num2\n",
    "\n",
    "if difference.is_integer():\n",
    "    print(f\"The difference between the numbers is an integer: {difference}\")\n",
    "else:\n",
    "    print(f\"The difference between the numbers is not an integer: {difference}\")\n"
   ]
  },
  {
   "cell_type": "code",
   "execution_count": null,
   "id": "cf146410-da01-4cb7-b1e7-6eda412ceeeb",
   "metadata": {},
   "outputs": [],
   "source": []
  }
 ],
 "metadata": {
  "kernelspec": {
   "display_name": "Python 3 (ipykernel)",
   "language": "python",
   "name": "python3"
  },
  "language_info": {
   "codemirror_mode": {
    "name": "ipython",
    "version": 3
   },
   "file_extension": ".py",
   "mimetype": "text/x-python",
   "name": "python",
   "nbconvert_exporter": "python",
   "pygments_lexer": "ipython3",
   "version": "3.13.5"
  }
 },
 "nbformat": 4,
 "nbformat_minor": 5
}
