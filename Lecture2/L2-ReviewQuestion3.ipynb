{
 "cells": [
  {
   "cell_type": "markdown",
   "id": "8663bada-43d8-4cc2-921f-eff19d3ef539",
   "metadata": {},
   "source": [
    "# Review Question 3"
   ]
  },
  {
   "cell_type": "code",
   "execution_count": 6,
   "id": "66a6fd23-573f-4bdc-92e1-9fbb88edecd0",
   "metadata": {},
   "outputs": [
    {
     "name": "stdin",
     "output_type": "stream",
     "text": [
      "Enter a number:  5.21\n"
     ]
    }
   ],
   "source": [
    "prompt = \"Enter a number: \"\n",
    "num1 =float(input(prompt))"
   ]
  },
  {
   "cell_type": "code",
   "execution_count": null,
   "id": "84641dab-13a0-4758-886f-eb8dbb87f154",
   "metadata": {},
   "outputs": [],
   "source": []
  }
 ],
 "metadata": {
  "kernelspec": {
   "display_name": "Python 3 (ipykernel)",
   "language": "python",
   "name": "python3"
  },
  "language_info": {
   "codemirror_mode": {
    "name": "ipython",
    "version": 3
   },
   "file_extension": ".py",
   "mimetype": "text/x-python",
   "name": "python",
   "nbconvert_exporter": "python",
   "pygments_lexer": "ipython3",
   "version": "3.13.5"
  }
 },
 "nbformat": 4,
 "nbformat_minor": 5
}
