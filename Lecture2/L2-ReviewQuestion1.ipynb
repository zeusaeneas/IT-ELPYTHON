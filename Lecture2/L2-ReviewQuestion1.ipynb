{
 "cells": [
  {
   "cell_type": "markdown",
   "id": "89aca812-19fd-40a1-885f-44358d98a2ea",
   "metadata": {},
   "source": [
    "# Review Question 1"
   ]
  },
  {
   "cell_type": "code",
   "execution_count": 9,
   "id": "f11847a7-197a-4646-b951-2b6122a4a010",
   "metadata": {},
   "outputs": [
    {
     "name": "stdout",
     "output_type": "stream",
     "text": [
      "25_000_000\n",
      "25,000,000\n"
     ]
    }
   ],
   "source": [
    "num1 = 25000000\n",
    "num2 = 25000000\n",
    "\n",
    "num1underscore = f\"{num1:_.0f}\"\n",
    "num2without = f\"{num2:,.0f}\"\n",
    "\n",
    "print(num1underscore)\n",
    "print(num2without)"
   ]
  },
  {
   "cell_type": "code",
   "execution_count": 10,
   "id": "02d21f10-7382-4bff-893c-5977484b8328",
   "metadata": {},
   "outputs": [
    {
     "data": {
      "text/plain": [
       "175000.0"
      ]
     },
     "execution_count": 10,
     "metadata": {},
     "output_type": "execute_result"
    }
   ],
   "source": [
    "1.75 * 10**5"
   ]
  },
  {
   "cell_type": "code",
   "execution_count": null,
   "id": "5efb2556-568c-4ba1-a215-bbe13aa8c6f9",
   "metadata": {},
   "outputs": [],
   "source": []
  }
 ],
 "metadata": {
  "kernelspec": {
   "display_name": "Python 3 (ipykernel)",
   "language": "python",
   "name": "python3"
  },
  "language_info": {
   "codemirror_mode": {
    "name": "ipython",
    "version": 3
   },
   "file_extension": ".py",
   "mimetype": "text/x-python",
   "name": "python",
   "nbconvert_exporter": "python",
   "pygments_lexer": "ipython3",
   "version": "3.13.5"
  }
 },
 "nbformat": 4,
 "nbformat_minor": 5
}
