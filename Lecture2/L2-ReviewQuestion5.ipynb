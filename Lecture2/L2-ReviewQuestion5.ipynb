{
 "cells": [
  {
   "cell_type": "markdown",
   "id": "8825af06-736a-4432-8920-460350a05767",
   "metadata": {},
   "source": [
    "# Review Question 5"
   ]
  },
  {
   "cell_type": "code",
   "execution_count": 1,
   "id": "9c9d0b67-2e90-4b6a-b4aa-8e427e59f2bc",
   "metadata": {},
   "outputs": [
    {
     "name": "stdout",
     "output_type": "stream",
     "text": [
      "1.147\n"
     ]
    }
   ],
   "source": [
    "result = 3 ** 0.125\n",
    "print(f\"{result:.3f}\")"
   ]
  },
  {
   "cell_type": "code",
   "execution_count": 2,
   "id": "d9467ae2-1610-451f-a772-39626565747a",
   "metadata": {},
   "outputs": [
    {
     "name": "stdout",
     "output_type": "stream",
     "text": [
      "$150,000.00\n"
     ]
    }
   ],
   "source": [
    "number = 150000\n",
    "print(f\"${number:,.2f}\") "
   ]
  },
  {
   "cell_type": "code",
   "execution_count": 3,
   "id": "c0d5e9e6-d293-40d3-9b81-e2cf71579094",
   "metadata": {},
   "outputs": [
    {
     "name": "stdout",
     "output_type": "stream",
     "text": [
      "20%\n"
     ]
    }
   ],
   "source": [
    "percentage = (2 / 10) * 100\n",
    "print(f\"{percentage:.0f}%\")  "
   ]
  },
  {
   "cell_type": "code",
   "execution_count": null,
   "id": "27d1ee64-10e2-4248-a6d7-75f0aeb3ca59",
   "metadata": {},
   "outputs": [],
   "source": []
  }
 ],
 "metadata": {
  "kernelspec": {
   "display_name": "Python 3 (ipykernel)",
   "language": "python",
   "name": "python3"
  },
  "language_info": {
   "codemirror_mode": {
    "name": "ipython",
    "version": 3
   },
   "file_extension": ".py",
   "mimetype": "text/x-python",
   "name": "python",
   "nbconvert_exporter": "python",
   "pygments_lexer": "ipython3",
   "version": "3.13.5"
  }
 },
 "nbformat": 4,
 "nbformat_minor": 5
}
