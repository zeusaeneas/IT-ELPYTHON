{
 "cells": [
  {
   "cell_type": "markdown",
   "id": "01fdcbe6-4bd6-408b-be3b-1603be525128",
   "metadata": {},
   "source": [
    "# 1st Long Exam 09/10/2025"
   ]
  },
  {
   "cell_type": "markdown",
   "id": "eeb26dd7-f405-4efb-8c90-f75407240a8e",
   "metadata": {},
   "source": [
    "# Zeus Aeneas  Laporre ID:23843394"
   ]
  },
  {
   "cell_type": "markdown",
   "id": "9cd53532-a77f-45b0-a949-8aa65c2d9ae3",
   "metadata": {},
   "source": [
    "QUESTION 1\n"
   ]
  },
  {
   "cell_type": "code",
   "execution_count": 1,
   "id": "ace8cd14-1e2e-45dd-ab71-35a2bff3d777",
   "metadata": {},
   "outputs": [
    {
     "name": "stdin",
     "output_type": "stream",
     "text": [
      "Enter your name Zeus\n"
     ]
    },
    {
     "name": "stdout",
     "output_type": "stream",
     "text": [
      "Hello Zeus\n"
     ]
    }
   ],
   "source": [
    "prompt = \"Enter your name\"\n",
    "userInput = input(prompt)\n",
    "print(\"Hello\", userInput)"
   ]
  },
  {
   "cell_type": "markdown",
   "id": "830bfd11-6d06-4225-b2bd-694d0a90a9a8",
   "metadata": {},
   "source": [
    "QUESTION 2"
   ]
  },
  {
   "cell_type": "code",
   "execution_count": 12,
   "id": "d4c2cd52-d4e8-4227-84d1-36aea737fea8",
   "metadata": {},
   "outputs": [
    {
     "name": "stdin",
     "output_type": "stream",
     "text": [
      "Enter an integer 12\n"
     ]
    },
    {
     "name": "stdout",
     "output_type": "stream",
     "text": [
      "78.0\n"
     ]
    }
   ],
   "source": [
    "num = abs(int(input(\"Enter an integer\")))\n",
    "sum = num * (num+1)/2\n",
    "print(sum)"
   ]
  },
  {
   "cell_type": "markdown",
   "id": "3956af57-e9fd-4df7-8133-b9812ce0a9a4",
   "metadata": {},
   "source": [
    "QUESTION 3"
   ]
  },
  {
   "cell_type": "code",
   "execution_count": 13,
   "id": "513ad542-0ea5-4dc5-ba39-062c96aae46b",
   "metadata": {},
   "outputs": [
    {
     "name": "stdin",
     "output_type": "stream",
     "text": [
      "Enter a letter:  Y\n"
     ]
    },
    {
     "name": "stdout",
     "output_type": "stream",
     "text": [
      "The letter is sometimes vowel or consonant\n"
     ]
    }
   ],
   "source": [
    "letter = input(\"Enter a letter: \")\n",
    "if(letter == 'a' or letter == 'A' or letter == 'e' or letter == 'E' or letter == 'i' or letter == 'I' or letter == 'o' or letter == 'O' or letter == 'u' or letter == 'U'):\n",
    "    print(\"The letter is vowel\")\n",
    "elif(letter == 'y' or letter == 'Y'):\n",
    "    print(\"The letter is sometimes vowel or consonant\")\n",
    "else:\n",
    "    print(\"The letter is consonant\")\n",
    "    "
   ]
  },
  {
   "cell_type": "markdown",
   "id": "074a8acc-3931-4c2e-90c4-a90b6df1e609",
   "metadata": {},
   "source": [
    "QUESTION 4"
   ]
  },
  {
   "cell_type": "code",
   "execution_count": null,
   "id": "25bba74a-3a77-47a2-b6ab-458a80b503bc",
   "metadata": {},
   "outputs": [],
   "source": [
    "loop = input(\"Enter a word: \")\n",
    "character = 0;\n",
    "for i in range(0, len(loop)):\n",
    "    if(loop[i] == loop[len(loop)-i]):\n",
    "    character = character + 1\n",
    "    \n",
    "if(character == (len(loop)-1)):\n",
    "    print(\"The word is palindrome\")\n",
    "else:\n",
    "    print(\"The word is not a palindrome\")"
   ]
  },
  {
   "cell_type": "markdown",
   "id": "92eae321-207f-40c0-8359-e72d4f67c57f",
   "metadata": {},
   "source": [
    "QUESTION 5"
   ]
  },
  {
   "cell_type": "code",
   "execution_count": 24,
   "id": "22f83e51-59d9-42e6-96c1-aaf044103704",
   "metadata": {},
   "outputs": [
    {
     "name": "stdin",
     "output_type": "stream",
     "text": [
      "Enter a the value of the right triangles first short side:  12\n",
      "Enter a the value of the right triangles second short side:  12\n"
     ]
    },
    {
     "name": "stdout",
     "output_type": "stream",
     "text": [
      "Hypotenuse: 144.0\n"
     ]
    }
   ],
   "source": [
    "var1 = float(input(\"Enter a the value of the right triangles first short side: \" ))\n",
    "var2 = float(input(\"Enter a the value of the right triangles second short side: \" ))\n",
    "\n",
    "def hypotenuse(var1, var2):\n",
    "    return (var1 ** 2 + var2 ** 2) ** 1/2\n",
    "print(\"Hypotenuse:\", hypotenuse(var1, var2))"
   ]
  },
  {
   "cell_type": "code",
   "execution_count": null,
   "id": "8d9d0e3e-c032-4a29-9f5a-c46c47233fdc",
   "metadata": {},
   "outputs": [],
   "source": []
  }
 ],
 "metadata": {
  "kernelspec": {
   "display_name": "Python 3 (ipykernel)",
   "language": "python",
   "name": "python3"
  },
  "language_info": {
   "codemirror_mode": {
    "name": "ipython",
    "version": 3
   },
   "file_extension": ".py",
   "mimetype": "text/x-python",
   "name": "python",
   "nbconvert_exporter": "python",
   "pygments_lexer": "ipython3",
   "version": "3.13.5"
  }
 },
 "nbformat": 4,
 "nbformat_minor": 5
}
