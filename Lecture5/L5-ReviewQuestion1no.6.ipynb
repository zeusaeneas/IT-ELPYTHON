{
 "cells": [
  {
   "cell_type": "markdown",
   "id": "e3ca2406-a24c-4ef4-b871-91a2bbc6f771",
   "metadata": {},
   "source": [
    "# Review Question 1 NO.6"
   ]
  },
  {
   "cell_type": "code",
   "execution_count": 1,
   "id": "8a01a6b7-2478-4c7c-ae18-0b84b49f2638",
   "metadata": {},
   "outputs": [
    {
     "name": "stdout",
     "output_type": "stream",
     "text": [
      "Original tuple: ('Z', 'e', 'u', 's')\n",
      "New tuple (without first letter): ('e', 'u', 's')\n"
     ]
    }
   ],
   "source": [
    "name = \"Zeus\"\n",
    "name_tuple = tuple(name)\n",
    "\n",
    "new_tuple = name_tuple[1:]\n",
    "\n",
    "print(\"Original tuple:\", name_tuple)\n",
    "print(\"New tuple (without first letter):\", new_tuple)\n"
   ]
  },
  {
   "cell_type": "code",
   "execution_count": null,
   "id": "fb748037-560a-4d48-97b6-edc7464a295a",
   "metadata": {},
   "outputs": [],
   "source": []
  }
 ],
 "metadata": {
  "kernelspec": {
   "display_name": "Python [conda env:base] *",
   "language": "python",
   "name": "conda-base-py"
  },
  "language_info": {
   "codemirror_mode": {
    "name": "ipython",
    "version": 3
   },
   "file_extension": ".py",
   "mimetype": "text/x-python",
   "name": "python",
   "nbconvert_exporter": "python",
   "pygments_lexer": "ipython3",
   "version": "3.13.5"
  }
 },
 "nbformat": 4,
 "nbformat_minor": 5
}
