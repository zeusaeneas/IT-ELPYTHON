{
 "cells": [
  {
   "cell_type": "markdown",
   "id": "08bc54f8-d244-4ad9-88c2-5c469c8039dd",
   "metadata": {},
   "source": [
    "# Review Question 2"
   ]
  },
  {
   "cell_type": "code",
   "execution_count": 1,
   "id": "554eaeb3-476a-495b-81ad-aa8364b9350f",
   "metadata": {},
   "outputs": [
    {
     "name": "stdout",
     "output_type": "stream",
     "text": [
      "['RICE', 'BEANS']\n"
     ]
    }
   ],
   "source": [
    "food = [\"RICE\", \"BEANS\"]\n",
    "print(food)\n"
   ]
  },
  {
   "cell_type": "code",
   "execution_count": 3,
   "id": "ac77ec59-6b64-4f39-ab6a-5aa0f239ed6b",
   "metadata": {},
   "outputs": [
    {
     "name": "stdout",
     "output_type": "stream",
     "text": [
      "['RICE', 'BEANS', 'BROCCOLI']\n"
     ]
    }
   ],
   "source": [
    "food = [\"RICE\", \"BEANS\"]\n",
    "food.append(\"BROCCOLI\")\n",
    "print(food)\n"
   ]
  },
  {
   "cell_type": "code",
   "execution_count": 4,
   "id": "9abd3834-82a9-49f5-a23f-c45d160aa0fe",
   "metadata": {},
   "outputs": [
    {
     "name": "stdout",
     "output_type": "stream",
     "text": [
      "['RICE', 'BEANS']\n"
     ]
    }
   ],
   "source": [
    "food = [\"RICE\", \"BEANS\"]\n",
    "\n",
    "food.append(\"BROCCOLI\")\n",
    "\n",
    "food.extend([\"BREAD\", \"PIZZA\"])\n",
    "\n",
    "print(food[:2])\n"
   ]
  },
  {
   "cell_type": "code",
   "execution_count": 7,
   "id": "852eeaa7-d6e0-4bd0-9804-ed345f5abcfa",
   "metadata": {},
   "outputs": [
    {
     "name": "stdout",
     "output_type": "stream",
     "text": [
      "PIZZA\n"
     ]
    }
   ],
   "source": [
    "food = [\"RICE\", \"BEANS\", \"BROCCOLI\", \"BREAD\", \"PIZZA\"]\n",
    "\n",
    "print(food[-1])\n"
   ]
  },
  {
   "cell_type": "code",
   "execution_count": 8,
   "id": "e59b720a-53ff-47e5-a987-afcc3bc6a4ba",
   "metadata": {},
   "outputs": [
    {
     "name": "stdout",
     "output_type": "stream",
     "text": [
      "['EGGS', 'FRUIT', 'ORANGE JUICE']\n"
     ]
    }
   ],
   "source": [
    "text = \"EGGS, FRUIT, ORANGE JUICE\"\n",
    "\n",
    "breakfast = text.split(\", \")\n",
    "\n",
    "print(breakfast)\n"
   ]
  },
  {
   "cell_type": "code",
   "execution_count": null,
   "id": "c42d8e9b-598a-450a-8c5d-4d5e5ec9ebc6",
   "metadata": {},
   "outputs": [],
   "source": [
    "# Given string\n",
    "text = \"EGGS, FRUIT, ORANGE JUICE\"\n",
    "\n",
    "# Create a list using .split()\n",
    "breakfast = text.split(\", \")\n",
    "\n",
    "# Print the result\n",
    "print(breakfast)\n"
   ]
  },
  {
   "cell_type": "code",
   "execution_count": 9,
   "id": "4b32bdf5-1763-47c2-b3d3-926fcfac34a2",
   "metadata": {},
   "outputs": [
    {
     "name": "stdout",
     "output_type": "stream",
     "text": [
      "3\n"
     ]
    }
   ],
   "source": [
    "text = \"EGGS, FRUIT, ORANGE JUICE\"\n",
    "breakfast = text.split(\", \")\n",
    "\n",
    "print(len(breakfast))\n"
   ]
  },
  {
   "cell_type": "code",
   "execution_count": null,
   "id": "e0cefdef-ba5c-4a87-92be-e17ba5ba06bd",
   "metadata": {},
   "outputs": [],
   "source": []
  }
 ],
 "metadata": {
  "kernelspec": {
   "display_name": "Python [conda env:base] *",
   "language": "python",
   "name": "conda-base-py"
  },
  "language_info": {
   "codemirror_mode": {
    "name": "ipython",
    "version": 3
   },
   "file_extension": ".py",
   "mimetype": "text/x-python",
   "name": "python",
   "nbconvert_exporter": "python",
   "pygments_lexer": "ipython3",
   "version": "3.13.5"
  }
 },
 "nbformat": 4,
 "nbformat_minor": 5
}
