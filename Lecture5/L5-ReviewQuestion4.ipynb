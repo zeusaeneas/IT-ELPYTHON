{
 "cells": [
  {
   "cell_type": "markdown",
   "id": "c8e25181-1430-4fd0-89c1-b93a93d33921",
   "metadata": {},
   "source": [
    "# Review Question 4"
   ]
  },
  {
   "cell_type": "code",
   "execution_count": 1,
   "id": "8405f9f6-c05c-4002-b0a8-ee414094dcbc",
   "metadata": {},
   "outputs": [
    {
     "name": "stdout",
     "output_type": "stream",
     "text": [
      "{}\n"
     ]
    }
   ],
   "source": [
    "captains = {}\n",
    "print(captains)"
   ]
  },
  {
   "cell_type": "code",
   "execution_count": 2,
   "id": "eaaeddc3-4662-4f31-ac36-81d3c3d65a14",
   "metadata": {},
   "outputs": [
    {
     "name": "stdout",
     "output_type": "stream",
     "text": [
      "{'Enterprise': 'Picard', 'Voyager': 'Janeway', 'Defiant': 'Sisko'}\n"
     ]
    }
   ],
   "source": [
    "captains = {}\n",
    "\n",
    "captains[\"Enterprise\"] = \"Picard\"\n",
    "captains[\"Voyager\"] = \"Janeway\"\n",
    "captains[\"Defiant\"] = \"Sisko\"\n",
    "\n",
    "print(captains)"
   ]
  },
  {
   "cell_type": "code",
   "execution_count": 3,
   "id": "395b4fb0-8bed-4d96-a587-0e188f012dcb",
   "metadata": {},
   "outputs": [
    {
     "name": "stdout",
     "output_type": "stream",
     "text": [
      "{'Enterprise': 'Picard', 'Voyager': 'Janeway', 'Defiant': 'Sisko', 'Discovery': 'UNKNOWN'}\n"
     ]
    }
   ],
   "source": [
    "captains = {\n",
    "    \"Enterprise\": \"Picard\",\n",
    "    \"Voyager\": \"Janeway\",\n",
    "    \"Defiant\": \"Sisko\"\n",
    "}\n",
    "\n",
    "if \"Enterprise\" not in captains:\n",
    "    captains[\"Enterprise\"] = \"UNKNOWN\"\n",
    "\n",
    "if \"Discovery\" not in captains:\n",
    "    captains[\"Discovery\"] = \"UNKNOWN\"\n",
    "\n",
    "print(captains)"
   ]
  },
  {
   "cell_type": "code",
   "execution_count": 4,
   "id": "da0b89e8-aca5-46d7-a263-0508e920b5c6",
   "metadata": {},
   "outputs": [
    {
     "name": "stdout",
     "output_type": "stream",
     "text": [
      "Ship: Enterprise, Captain: Picard\n",
      "Ship: Voyager, Captain: Janeway\n",
      "Ship: Defiant, Captain: Sisko\n",
      "Ship: Discovery, Captain: UNKNOWN\n"
     ]
    }
   ],
   "source": [
    "captains = {\n",
    "    \"Enterprise\": \"Picard\",\n",
    "    \"Voyager\": \"Janeway\",\n",
    "    \"Defiant\": \"Sisko\",\n",
    "    \"Discovery\": \"UNKNOWN\"\n",
    "}\n",
    "\n",
    "for ship, captain in captains.items():\n",
    "    print(f\"Ship: {ship}, Captain: {captain}\")"
   ]
  },
  {
   "cell_type": "code",
   "execution_count": 5,
   "id": "d568f3bc-4351-43c4-97d7-ae61d1b2cef3",
   "metadata": {},
   "outputs": [
    {
     "name": "stdout",
     "output_type": "stream",
     "text": [
      "{'Enterprise': 'Picard', 'Voyager': 'Janeway', 'Defiant': 'Sisko'}\n"
     ]
    }
   ],
   "source": [
    "captains = {\n",
    "    \"Enterprise\": \"Picard\",\n",
    "    \"Voyager\": \"Janeway\",\n",
    "    \"Defiant\": \"Sisko\",\n",
    "    \"Discovery\": \"UNKNOWN\"\n",
    "}\n",
    "del captains[\"Discovery\"]\n",
    "\n",
    "print(captains)"
   ]
  },
  {
   "cell_type": "code",
   "execution_count": 6,
   "id": "ab50451a-5cf8-4768-b553-7fa0eeb27902",
   "metadata": {},
   "outputs": [
    {
     "name": "stdout",
     "output_type": "stream",
     "text": [
      "{'Enterprise': 'Picard', 'Voyager': 'Janeway', 'Defiant': 'Sisko', 'Discovery': 'Burnham'}\n"
     ]
    }
   ],
   "source": [
    "captains = dict(\n",
    "    Enterprise=\"Picard\",\n",
    "    Voyager=\"Janeway\",\n",
    "    Defiant=\"Sisko\",\n",
    "    Discovery=\"Burnham\"\n",
    ")\n",
    "\n",
    "print(captains)\n"
   ]
  },
  {
   "cell_type": "code",
   "execution_count": null,
   "id": "b781dbc7-517f-426e-af6a-edb0b376486b",
   "metadata": {},
   "outputs": [],
   "source": []
  }
 ],
 "metadata": {
  "kernelspec": {
   "display_name": "Python [conda env:base] *",
   "language": "python",
   "name": "conda-base-py"
  },
  "language_info": {
   "codemirror_mode": {
    "name": "ipython",
    "version": 3
   },
   "file_extension": ".py",
   "mimetype": "text/x-python",
   "name": "python",
   "nbconvert_exporter": "python",
   "pygments_lexer": "ipython3",
   "version": "3.13.5"
  }
 },
 "nbformat": 4,
 "nbformat_minor": 5
}
