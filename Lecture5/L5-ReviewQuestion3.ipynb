{
 "cells": [
  {
   "cell_type": "markdown",
   "id": "c1309b21-2c78-430a-90a6-58dbc1a2a639",
   "metadata": {},
   "source": [
    "# Review Questions 3"
   ]
  },
  {
   "cell_type": "code",
   "execution_count": 1,
   "id": "c68ddfb4-106f-4537-b6d2-68893128cdce",
   "metadata": {},
   "outputs": [
    {
     "name": "stdout",
     "output_type": "stream",
     "text": [
      "((1, 2), (3, 4))\n"
     ]
    }
   ],
   "source": [
    "data = ((1, 2), (3, 4))\n",
    "print(data)"
   ]
  },
  {
   "cell_type": "code",
   "execution_count": 2,
   "id": "463c0a18-fc21-4967-922f-2c51e9f37e18",
   "metadata": {},
   "outputs": [
    {
     "name": "stdout",
     "output_type": "stream",
     "text": [
      "3\n",
      "7\n"
     ]
    }
   ],
   "source": [
    "for item in data:\n",
    "    print(sum(item))"
   ]
  },
  {
   "cell_type": "code",
   "execution_count": 3,
   "id": "5d0bef86-013c-4db2-b63d-b268f8a74843",
   "metadata": {},
   "outputs": [
    {
     "name": "stdout",
     "output_type": "stream",
     "text": [
      "Original list: [5, 2, 9, 1, 7]\n",
      "Copied list: [5, 2, 9, 1, 7]\n"
     ]
    }
   ],
   "source": [
    "numbers = [5, 2, 9, 1, 7]\n",
    "numbers_copy = numbers[:]\n",
    "\n",
    "print(\"Original list:\", numbers)\n",
    "print(\"Copied list:\", numbers_copy)"
   ]
  },
  {
   "cell_type": "code",
   "execution_count": 4,
   "id": "c1cbfde0-3acf-4c30-b179-a7a437756735",
   "metadata": {},
   "outputs": [
    {
     "name": "stdout",
     "output_type": "stream",
     "text": [
      "Sorted numbers: [1, 2, 5, 7, 9]\n"
     ]
    }
   ],
   "source": [
    "numbers = [5, 2, 9, 1, 7]\n",
    "numbers.sort()\n",
    "\n",
    "print(\"Sorted numbers:\", numbers)"
   ]
  },
  {
   "cell_type": "code",
   "execution_count": null,
   "id": "04dfdda5-5673-4016-89d1-8d9171335a6a",
   "metadata": {},
   "outputs": [],
   "source": []
  }
 ],
 "metadata": {
  "kernelspec": {
   "display_name": "Python [conda env:base] *",
   "language": "python",
   "name": "conda-base-py"
  },
  "language_info": {
   "codemirror_mode": {
    "name": "ipython",
    "version": 3
   },
   "file_extension": ".py",
   "mimetype": "text/x-python",
   "name": "python",
   "nbconvert_exporter": "python",
   "pygments_lexer": "ipython3",
   "version": "3.13.5"
  }
 },
 "nbformat": 4,
 "nbformat_minor": 5
}
