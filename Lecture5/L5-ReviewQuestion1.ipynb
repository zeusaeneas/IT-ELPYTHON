{
 "cells": [
  {
   "cell_type": "markdown",
   "id": "16bc15f7-0b8b-4016-bba4-897396d5ca4c",
   "metadata": {},
   "source": [
    "# Review Question 1"
   ]
  },
  {
   "cell_type": "code",
   "execution_count": 11,
   "id": "46eb36f7-1696-4a84-9a06-0b5f2c690dc3",
   "metadata": {},
   "outputs": [
    {
     "name": "stdout",
     "output_type": "stream",
     "text": [
      "second\n"
     ]
    }
   ],
   "source": [
    "cardinal_numbers = (\"first\", \"second\", \"third\")\n",
    "print(cardinal_numbers[1])"
   ]
  },
  {
   "cell_type": "code",
   "execution_count": 30,
   "id": "f16a526a-cee6-44e2-9352-c944d1e83bc9",
   "metadata": {},
   "outputs": [
    {
     "name": "stdout",
     "output_type": "stream",
     "text": [
      "first second third\n"
     ]
    }
   ],
   "source": [
    "cardinal_numbers = (\"first\", \"second\", \"third\")\n",
    "POSITION1, POSITION2, POSITION3 = cardinal_numbers\n",
    "print(POSITION1, POSITION2, POSITION3)"
   ]
  },
  {
   "cell_type": "code",
   "execution_count": 41,
   "id": "f1817641-576e-49da-bd23-57170a3d9380",
   "metadata": {},
   "outputs": [
    {
     "name": "stdout",
     "output_type": "stream",
     "text": [
      "('Z', 'E', 'U', 'S')\n"
     ]
    }
   ],
   "source": [
    "My_name = tuple('ZEUS')\n",
    "print(My_name)"
   ]
  },
  {
   "cell_type": "code",
   "execution_count": 47,
   "id": "ea73c1e2-ba66-4fee-ad30-9a1fafcc8a12",
   "metadata": {},
   "outputs": [
    {
     "data": {
      "text/plain": [
       "False"
      ]
     },
     "execution_count": 47,
     "metadata": {},
     "output_type": "execute_result"
    }
   ],
   "source": [
    "\"x\" in My_name"
   ]
  },
  {
   "cell_type": "code",
   "execution_count": null,
   "id": "6d985d8c-c2e8-4089-8119-0029b245e1d3",
   "metadata": {},
   "outputs": [],
   "source": []
  },
  {
   "cell_type": "code",
   "execution_count": null,
   "id": "129200f0-1516-47e2-8b4e-55fb3fa3939d",
   "metadata": {},
   "outputs": [],
   "source": []
  }
 ],
 "metadata": {
  "kernelspec": {
   "display_name": "Python 3 (ipykernel)",
   "language": "python",
   "name": "python3"
  },
  "language_info": {
   "codemirror_mode": {
    "name": "ipython",
    "version": 3
   },
   "file_extension": ".py",
   "mimetype": "text/x-python",
   "name": "python",
   "nbconvert_exporter": "python",
   "pygments_lexer": "ipython3",
   "version": "3.13.5"
  }
 },
 "nbformat": 4,
 "nbformat_minor": 5
}
