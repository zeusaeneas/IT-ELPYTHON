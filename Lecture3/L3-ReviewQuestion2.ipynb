{
 "cells": [
  {
   "cell_type": "code",
   "execution_count": 5,
   "id": "f46fabbe-607e-447c-9710-dc463dfd6a68",
   "metadata": {},
   "outputs": [
    {
     "name": "stdout",
     "output_type": "stream",
     "text": [
      "2\n",
      "3\n",
      "4\n",
      "5\n",
      "6\n",
      "7\n",
      "8\n",
      "9\n"
     ]
    }
   ],
   "source": [
    "for n in range (2, 10):\n",
    "    print(f\"{n}\")"
   ]
  },
  {
   "cell_type": "code",
   "execution_count": 6,
   "id": "06580774-d4b4-43fa-966c-a83ebedcea55",
   "metadata": {},
   "outputs": [
    {
     "name": "stdout",
     "output_type": "stream",
     "text": [
      "2\n",
      "3\n",
      "4\n",
      "5\n",
      "6\n",
      "7\n",
      "8\n",
      "9\n"
     ]
    }
   ],
   "source": [
    "n = 2 \n",
    "\n",
    "while(n < 10):\n",
    "    print(n)\n",
    "    n = n + 1"
   ]
  },
  {
   "cell_type": "code",
   "execution_count": 12,
   "id": "d31618bd-1f48-418d-be1f-8c5633716943",
   "metadata": {},
   "outputs": [
    {
     "name": "stdout",
     "output_type": "stream",
     "text": [
      "4\n",
      "8\n",
      "16\n"
     ]
    }
   ],
   "source": [
    "num = 2 \n",
    "\n",
    "def doubles(num):\n",
    "    for n in range(0,3):\n",
    "        num = num * 2\n",
    "        print(num)\n",
    "\n",
    "doubles(num)"
   ]
  },
  {
   "cell_type": "code",
   "execution_count": null,
   "id": "775a75aa-42d3-400a-bd07-8f8008683f41",
   "metadata": {},
   "outputs": [],
   "source": []
  }
 ],
 "metadata": {
  "kernelspec": {
   "display_name": "Python 3 (ipykernel)",
   "language": "python",
   "name": "python3"
  },
  "language_info": {
   "codemirror_mode": {
    "name": "ipython",
    "version": 3
   },
   "file_extension": ".py",
   "mimetype": "text/x-python",
   "name": "python",
   "nbconvert_exporter": "python",
   "pygments_lexer": "ipython3",
   "version": "3.13.5"
  }
 },
 "nbformat": 4,
 "nbformat_minor": 5
}
