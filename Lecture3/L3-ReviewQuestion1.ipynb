{
 "cells": [
  {
   "cell_type": "markdown",
   "id": "acb6e04e-ba24-4e4d-b421-7d9b12c99666",
   "metadata": {},
   "source": [
    "# Review Questions 1"
   ]
  },
  {
   "cell_type": "code",
   "execution_count": 23,
   "id": "daf1955c-7f45-4dd7-b054-1c6ef33ec838",
   "metadata": {},
   "outputs": [
    {
     "name": "stdout",
     "output_type": "stream",
     "text": [
      "27\n"
     ]
    }
   ],
   "source": [
    "def cube(number):\n",
    "    return number **3\n",
    "    \n",
    "print(cube(number))"
   ]
  },
  {
   "cell_type": "code",
   "execution_count": 24,
   "id": "a18bae0a-026c-47fa-a431-c84e41220366",
   "metadata": {},
   "outputs": [
    {
     "name": "stdout",
     "output_type": "stream",
     "text": [
      "Hello,Zeus!\n"
     ]
    }
   ],
   "source": [
    "def greet(name):\n",
    "    print(f\"Hello,{name}!\")\n",
    "\n",
    "greet(\"Zeus\")"
   ]
  },
  {
   "cell_type": "code",
   "execution_count": null,
   "id": "30a32494-63f3-4486-b8ea-b43b2ae55026",
   "metadata": {},
   "outputs": [],
   "source": []
  }
 ],
 "metadata": {
  "kernelspec": {
   "display_name": "Python 3 (ipykernel)",
   "language": "python",
   "name": "python3"
  },
  "language_info": {
   "codemirror_mode": {
    "name": "ipython",
    "version": 3
   },
   "file_extension": ".py",
   "mimetype": "text/x-python",
   "name": "python",
   "nbconvert_exporter": "python",
   "pygments_lexer": "ipython3",
   "version": "3.13.5"
  }
 },
 "nbformat": 4,
 "nbformat_minor": 5
}
