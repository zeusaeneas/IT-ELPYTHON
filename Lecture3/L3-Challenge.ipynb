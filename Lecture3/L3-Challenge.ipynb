{
 "cells": [
  {
   "cell_type": "markdown",
   "id": "206f927f-b017-464b-9755-ace17774cbbc",
   "metadata": {},
   "source": [
    "# Review Question 2"
   ]
  },
  {
   "cell_type": "code",
   "execution_count": 27,
   "id": "cb627519-5921-44c4-a23c-d768c0009114",
   "metadata": {},
   "outputs": [
    {
     "name": "stdin",
     "output_type": "stream",
     "text": [
      "Enter a temperature in degrees C:  37\n"
     ]
    },
    {
     "name": "stdout",
     "output_type": "stream",
     "text": [
      "37 degrees C = 98.60 degrees F\n"
     ]
    }
   ],
   "source": [
    "def convert_cel_to_far(celsius: float) -> float:\n",
    "    return (celsius * 9/5) + 32\n",
    "\n",
    "celsius_temp = int(input(\"Enter a temperature in degrees C: \"))\n",
    "fahrenheit_temp = convert_cel_to_far(celsius_temp)\n",
    "print(f\"{celsius_temp} degrees C = {fahrenheit_temp:.2f} degrees F\")"
   ]
  },
  {
   "cell_type": "code",
   "execution_count": 26,
   "id": "a533c035-c12b-49fe-877f-9d173c27a79c",
   "metadata": {},
   "outputs": [
    {
     "name": "stdin",
     "output_type": "stream",
     "text": [
      "Enter a temperature in degrees F:  72\n"
     ]
    },
    {
     "name": "stdout",
     "output_type": "stream",
     "text": [
      "72 degrees F = 22.22 degrees C\n"
     ]
    }
   ],
   "source": [
    "def convert_far_to_cel(fahrenheit: float) -> float:\n",
    "    return (fahrenheit - 32) * 5/9\n",
    "\n",
    "fahrenheit_temp = int(input(\"Enter a temperature in degrees F: \"))\n",
    "celsius_temp = convert_far_to_cel(fahrenheit_temp)\n",
    "print(f\"{fahrenheit_temp} degrees F = {celsius_temp:.2f} degrees C\")"
   ]
  },
  {
   "cell_type": "code",
   "execution_count": null,
   "id": "5e7addf4-578e-4913-8946-68b2f33bc3a6",
   "metadata": {},
   "outputs": [],
   "source": []
  },
  {
   "cell_type": "code",
   "execution_count": null,
   "id": "f5858ba6-d3ee-4ec3-b209-430ae479fdc9",
   "metadata": {},
   "outputs": [],
   "source": []
  }
 ],
 "metadata": {
  "kernelspec": {
   "display_name": "Python 3 (ipykernel)",
   "language": "python",
   "name": "python3"
  },
  "language_info": {
   "codemirror_mode": {
    "name": "ipython",
    "version": 3
   },
   "file_extension": ".py",
   "mimetype": "text/x-python",
   "name": "python",
   "nbconvert_exporter": "python",
   "pygments_lexer": "ipython3",
   "version": "3.13.5"
  }
 },
 "nbformat": 4,
 "nbformat_minor": 5
}
