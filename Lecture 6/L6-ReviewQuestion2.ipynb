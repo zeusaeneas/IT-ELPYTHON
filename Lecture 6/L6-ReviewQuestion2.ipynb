{
 "cells": [
  {
   "cell_type": "markdown",
   "id": "8e75b98c-7fe0-44b9-ba44-b1a9e1151485",
   "metadata": {},
   "source": [
    "# Review Questions 2"
   ]
  },
  {
   "cell_type": "code",
   "execution_count": 1,
   "id": "927358ee-e1bd-45c5-9205-762b7df50e82",
   "metadata": {},
   "outputs": [
    {
     "name": "stdout",
     "output_type": "stream",
     "text": [
      "Buddy is 3 years old\n",
      "Buddy says Bark\n"
     ]
    }
   ],
   "source": [
    "class Dog:\n",
    "    species = \"Canis familiaris\"\n",
    "\n",
    "    def __init__(self, name, age):\n",
    "        self.name = name\n",
    "        self.age = age\n",
    "\n",
    "    def __str__(self):\n",
    "        return f\"{self.name} is {self.age} years old\"\n",
    "\n",
    "    def speak(self, sound):\n",
    "        return f\"{self.name} says {sound}\"\n",
    "\n",
    "\n",
    "# --- Subclass: GoldenRetriever ---\n",
    "class GoldenRetriever(Dog):\n",
    "    def speak(self, sound=\"Bark\"):\n",
    "        return super().speak(sound)\n",
    "\n",
    "\n",
    "# --- Test the GoldenRetriever class ---\n",
    "golden = GoldenRetriever(\"Buddy\", 3)\n",
    "print(golden)\n",
    "print(golden.speak())\n"
   ]
  },
  {
   "cell_type": "code",
   "execution_count": 2,
   "id": "e1dcee4d-77dd-4049-9d7a-d44c976c0987",
   "metadata": {},
   "outputs": [
    {
     "name": "stdout",
     "output_type": "stream",
     "text": [
      "The area of the square is: 16\n"
     ]
    }
   ],
   "source": [
    "class Rectangle:\n",
    "    def __init__(self, length, width):\n",
    "        self.length = length\n",
    "        self.width = width\n",
    "\n",
    "    def area(self):\n",
    "        return self.length * self.width\n",
    "\n",
    "\n",
    "# --- Subclass: Square ---\n",
    "class Square(Rectangle):\n",
    "    def __init__(self, side_length):\n",
    "        # A square has equal length and width\n",
    "        super().__init__(side_length, side_length)\n",
    "\n",
    "\n",
    "# --- Test the Square class ---\n",
    "square = Square(4)\n",
    "print(\"The area of the square is:\", square.area())\n"
   ]
  },
  {
   "cell_type": "code",
   "execution_count": null,
   "id": "3692344d-ff72-42bf-8232-0fed4c6125d4",
   "metadata": {},
   "outputs": [],
   "source": []
  }
 ],
 "metadata": {
  "kernelspec": {
   "display_name": "Python [conda env:base] *",
   "language": "python",
   "name": "conda-base-py"
  },
  "language_info": {
   "codemirror_mode": {
    "name": "ipython",
    "version": 3
   },
   "file_extension": ".py",
   "mimetype": "text/x-python",
   "name": "python",
   "nbconvert_exporter": "python",
   "pygments_lexer": "ipython3",
   "version": "3.13.5"
  }
 },
 "nbformat": 4,
 "nbformat_minor": 5
}
