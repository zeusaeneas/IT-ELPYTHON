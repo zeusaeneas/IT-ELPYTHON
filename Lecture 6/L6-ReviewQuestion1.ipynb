{
 "cells": [
  {
   "cell_type": "markdown",
   "id": "a5b05e7c-4def-48f4-97fe-efbdeae46c23",
   "metadata": {},
   "source": [
    "# Review Question 1"
   ]
  },
  {
   "cell_type": "code",
   "execution_count": 1,
   "id": "18b09e9e-0c5d-46dd-aabf-75f30e810ae3",
   "metadata": {},
   "outputs": [
    {
     "name": "stdout",
     "output_type": "stream",
     "text": [
      "Philo's coat is brown.\n"
     ]
    }
   ],
   "source": [
    "class Dog:\n",
    "    def __init__(self, name, age, coat_color):\n",
    "        self.name = name\n",
    "        self.age = age\n",
    "        self.coat_color = coat_color\n",
    "\n",
    "philo = Dog(\"Philo\", 5, \"brown\")\n",
    "print(f\"{philo.name}'s coat is {philo.coat_color}.\")\n"
   ]
  },
  {
   "cell_type": "code",
   "execution_count": 2,
   "id": "7539fd93-a5dd-4f97-bb90-f3d0a2d52f38",
   "metadata": {},
   "outputs": [
    {
     "name": "stdout",
     "output_type": "stream",
     "text": [
      "The blue car has 20000 miles.\n",
      "The red car has 30000 miles.\n"
     ]
    }
   ],
   "source": [
    "class Car:\n",
    "    def __init__(self, color, mileage):\n",
    "        self.color = color\n",
    "        self.mileage = mileage\n",
    "\n",
    "blue_car = Car(\"blue\", 20000)\n",
    "red_car = Car(\"red\", 30000)\n",
    "\n",
    "print(f\"The {blue_car.color} car has {blue_car.mileage} miles.\")\n",
    "print(f\"The {red_car.color} car has {red_car.mileage} miles.\")\n"
   ]
  },
  {
   "cell_type": "code",
   "execution_count": 3,
   "id": "f19a05bd-32c6-43a3-b42c-b256c179cad5",
   "metadata": {},
   "outputs": [
    {
     "name": "stdout",
     "output_type": "stream",
     "text": [
      "The blue car has 100 miles.\n"
     ]
    }
   ],
   "source": [
    "class Car:\n",
    "    def __init__(self, color, mileage):\n",
    "        self.color = color\n",
    "        self.mileage = mileage\n",
    "\n",
    "    def drive(self, miles):\n",
    "        self.mileage += miles\n",
    "\n",
    "my_car = Car(\"blue\", 0)\n",
    "my_car.drive(100)\n",
    "\n",
    "print(f\"The {my_car.color} car has {my_car.mileage} miles.\")\n"
   ]
  },
  {
   "cell_type": "code",
   "execution_count": null,
   "id": "758e1cf5-a6fe-4273-82a5-600d71faa996",
   "metadata": {},
   "outputs": [],
   "source": []
  }
 ],
 "metadata": {
  "kernelspec": {
   "display_name": "Python [conda env:base] *",
   "language": "python",
   "name": "conda-base-py"
  },
  "language_info": {
   "codemirror_mode": {
    "name": "ipython",
    "version": 3
   },
   "file_extension": ".py",
   "mimetype": "text/x-python",
   "name": "python",
   "nbconvert_exporter": "python",
   "pygments_lexer": "ipython3",
   "version": "3.13.5"
  }
 },
 "nbformat": 4,
 "nbformat_minor": 5
}
