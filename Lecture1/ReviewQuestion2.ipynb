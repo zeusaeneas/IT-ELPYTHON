{
 "cells": [
  {
   "cell_type": "markdown",
   "id": "84d59080-ddb2-42ed-a966-8d528a5827e5",
   "metadata": {},
   "source": [
    "# Review Question 2"
   ]
  },
  {
   "cell_type": "code",
   "execution_count": 16,
   "id": "d00fe622-9cee-4db1-9da8-c570849f0a81",
   "metadata": {},
   "outputs": [
    {
     "name": "stdout",
     "output_type": "stream",
     "text": [
      "animals\n",
      "badger\n",
      "honey bee\n",
      "honey badger\n"
     ]
    }
   ],
   "source": [
    "animal1 = \"Animals\"\n",
    "animal2 = \"Badger\"\n",
    "animal3 = \"Honey Bee\"\n",
    "animal4 = \"Honey badger\"\n",
    "\n",
    "print(animal1.lower())\n",
    "print(animal2.lower())\n",
    "print(animal3.lower())\n",
    "print(animal4.lower())"
   ]
  },
  {
   "cell_type": "code",
   "execution_count": 17,
   "id": "f3be760d-cedb-48f5-b4d1-4accaba8649e",
   "metadata": {},
   "outputs": [
    {
     "name": "stdout",
     "output_type": "stream",
     "text": [
      "ANIMALS\n",
      "BADGER\n",
      "HONEY BEE\n",
      "HONEY BADGER\n"
     ]
    }
   ],
   "source": [
    "animal1 = \"Animals\"\n",
    "animal2 = \"Badger\"\n",
    "animal3 = \"Honey Bee\"\n",
    "animal4 = \"Honey badger\"\n",
    "\n",
    "print(animal1.upper())\n",
    "print(animal2.upper())\n",
    "print(animal3.upper())\n",
    "print(animal4.upper())"
   ]
  },
  {
   "cell_type": "code",
   "execution_count": 22,
   "id": "613e8c03-90de-41e5-aad2-03b2147f5353",
   "metadata": {},
   "outputs": [
    {
     "name": "stdout",
     "output_type": "stream",
     "text": [
      "Filet Mignon\n",
      "Brisket\n"
     ]
    }
   ],
   "source": [
    "string1 = \" Filet Mignon\"\n",
    "string2 = \"Brisket \"\n",
    "print(string1.strip())\n",
    "print(string2.strip())"
   ]
  },
  {
   "cell_type": "code",
   "execution_count": 23,
   "id": "5781e43a-1af0-4977-813d-510e66732e37",
   "metadata": {},
   "outputs": [
    {
     "name": "stdout",
     "output_type": "stream",
     "text": [
      "False\n",
      "True\n"
     ]
    }
   ],
   "source": [
    "word1 = \"Becomes\"\n",
    "word2 = \"becomes\"\n",
    "print(word1.startswith('be'))\n",
    "print(word2.startswith('be'))"
   ]
  },
  {
   "cell_type": "markdown",
   "id": "9aa7ba66-68dc-4409-80b0-ad05f00f59a9",
   "metadata": {},
   "source": [
    "word1 = \"Becomes\"\n",
    "word2 = \"becomes\"\n",
    "print(word1.lower().startswith('be'))\n",
    "print(word2.startswith('be'))\n"
   ]
  },
  {
   "cell_type": "code",
   "execution_count": null,
   "id": "b6aac3be-c9ac-44d2-850d-6c72ebcb4d77",
   "metadata": {},
   "outputs": [],
   "source": []
  }
 ],
 "metadata": {
  "kernelspec": {
   "display_name": "Python 3 (ipykernel)",
   "language": "python",
   "name": "python3"
  },
  "language_info": {
   "codemirror_mode": {
    "name": "ipython",
    "version": 3
   },
   "file_extension": ".py",
   "mimetype": "text/x-python",
   "name": "python",
   "nbconvert_exporter": "python",
   "pygments_lexer": "ipython3",
   "version": "3.10.18"
  }
 },
 "nbformat": 4,
 "nbformat_minor": 5
}
