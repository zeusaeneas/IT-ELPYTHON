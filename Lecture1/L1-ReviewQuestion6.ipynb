{
 "cells": [
  {
   "cell_type": "markdown",
   "id": "801b6b33-ff01-40b1-a1be-e54d0a1926f8",
   "metadata": {},
   "source": [
    "# Review Question 6 "
   ]
  },
  {
   "cell_type": "code",
   "execution_count": 1,
   "id": "57fcb7aa-8b90-49ca-8778-29a73594e890",
   "metadata": {},
   "outputs": [
    {
     "data": {
      "text/plain": [
       "-1"
      ]
     },
     "execution_count": 1,
     "metadata": {},
     "output_type": "execute_result"
    }
   ],
   "source": [
    "phrase = \"AAA\"\n",
    "phrase.find(\"a\")"
   ]
  },
  {
   "cell_type": "code",
   "execution_count": 6,
   "id": "a798a168-79a9-4ffb-91ba-af60c6b24d7d",
   "metadata": {},
   "outputs": [
    {
     "data": {
      "text/plain": [
       "'yomebody yaid yomething to yamantha.'"
      ]
     },
     "execution_count": 6,
     "metadata": {},
     "output_type": "execute_result"
    }
   ],
   "source": [
    "phrase = \"Somebody said something to Samantha.\"\n",
    "phrase.lower().replace(\"s\", \"y\")"
   ]
  },
  {
   "cell_type": "code",
   "execution_count": 11,
   "id": "e3a2c3e3-9b33-47f7-86bd-c40e919d734b",
   "metadata": {},
   "outputs": [
    {
     "name": "stdin",
     "output_type": "stream",
     "text": [
      "Enter words:  laporre zeus aeneas\n"
     ]
    },
    {
     "data": {
      "text/plain": [
       "8"
      ]
     },
     "execution_count": 11,
     "metadata": {},
     "output_type": "execute_result"
    }
   ],
   "source": [
    "prompt = \"Enter words: \"\n",
    "word = input(prompt)\n",
    "word.find(\"zeus\")"
   ]
  },
  {
   "cell_type": "code",
   "execution_count": null,
   "id": "091a03bf-53be-4078-84b3-83aed3c430ca",
   "metadata": {},
   "outputs": [],
   "source": []
  }
 ],
 "metadata": {
  "kernelspec": {
   "display_name": "Python 3 (ipykernel)",
   "language": "python",
   "name": "python3"
  },
  "language_info": {
   "codemirror_mode": {
    "name": "ipython",
    "version": 3
   },
   "file_extension": ".py",
   "mimetype": "text/x-python",
   "name": "python",
   "nbconvert_exporter": "python",
   "pygments_lexer": "ipython3",
   "version": "3.13.5"
  }
 },
 "nbformat": 4,
 "nbformat_minor": 5
}
