{
 "cells": [
  {
   "cell_type": "markdown",
   "id": "858d2d78-9d42-4d29-859d-5bccf00e486e",
   "metadata": {},
   "source": [
    "# Review Question 5 "
   ]
  },
  {
   "cell_type": "code",
   "execution_count": 1,
   "id": "8fb03516-016c-4f06-826f-f49b0165a663",
   "metadata": {},
   "outputs": [
    {
     "data": {
      "text/plain": [
       "28"
      ]
     },
     "execution_count": 1,
     "metadata": {},
     "output_type": "execute_result"
    }
   ],
   "source": [
    "num1 = '28'\n",
    "num2 = int(num1)\n",
    "num2"
   ]
  },
  {
   "cell_type": "code",
   "execution_count": 37,
   "id": "0506c135-3307-4ef2-99b8-fda7218198c3",
   "metadata": {},
   "outputs": [
    {
     "data": {
      "text/plain": [
       "112"
      ]
     },
     "execution_count": 37,
     "metadata": {},
     "output_type": "execute_result"
    }
   ],
   "source": [
    "num1 = '28'\n",
    "num2 = int(num1)\n",
    "num3 = 4\n",
    "num2 * num3"
   ]
  },
  {
   "cell_type": "code",
   "execution_count": 3,
   "id": "e5376a5c-4bd3-4121-b4b1-3247f2e431b3",
   "metadata": {},
   "outputs": [
    {
     "data": {
      "text/plain": [
       "28.0"
      ]
     },
     "execution_count": 3,
     "metadata": {},
     "output_type": "execute_result"
    }
   ],
   "source": [
    "num1 = '28'\n",
    "num2 = float(num1)\n",
    "num2"
   ]
  },
  {
   "cell_type": "code",
   "execution_count": 12,
   "id": "8718318c-2c21-481f-8e59-50aba14f36bb",
   "metadata": {},
   "outputs": [
    {
     "name": "stdout",
     "output_type": "stream",
     "text": [
      "28 4\n"
     ]
    }
   ],
   "source": [
    "num1 = '28'\n",
    "num2 = 4\n",
    "print(str(num1),str(num2))"
   ]
  },
  {
   "cell_type": "code",
   "execution_count": 36,
   "id": "903e3c26-4afc-499d-8b1d-35d71d4138f1",
   "metadata": {},
   "outputs": [
    {
     "name": "stdin",
     "output_type": "stream",
     "text": [
      "Enter numbers:  4\n",
      "Enter numbers:  5\n"
     ]
    },
    {
     "data": {
      "text/plain": [
       "20"
      ]
     },
     "execution_count": 36,
     "metadata": {},
     "output_type": "execute_result"
    }
   ],
   "source": [
    "prompt = \"Enter numbers: \" \n",
    "num1 = int(input(prompt))\n",
    "num2 = int(input(prompt))\n",
    "num1 * num2"
   ]
  },
  {
   "cell_type": "code",
   "execution_count": null,
   "id": "90ee25e7-f460-48cc-8fb5-89945bde59d5",
   "metadata": {},
   "outputs": [],
   "source": []
  }
 ],
 "metadata": {
  "kernelspec": {
   "display_name": "Python 3 (ipykernel)",
   "language": "python",
   "name": "python3"
  },
  "language_info": {
   "codemirror_mode": {
    "name": "ipython",
    "version": 3
   },
   "file_extension": ".py",
   "mimetype": "text/x-python",
   "name": "python",
   "nbconvert_exporter": "python",
   "pygments_lexer": "ipython3",
   "version": "3.13.5"
  }
 },
 "nbformat": 4,
 "nbformat_minor": 5
}
