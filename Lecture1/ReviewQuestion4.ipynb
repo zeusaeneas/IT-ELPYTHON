{
 "cells": [
  {
   "cell_type": "markdown",
   "id": "665a7ff9-e65e-40c3-a88d-154a2e8e2fd9",
   "metadata": {},
   "source": [
    "# Review Question 4"
   ]
  },
  {
   "cell_type": "code",
   "execution_count": 8,
   "id": "67d5589c-ea61-4376-8002-08b0a5f3c8b9",
   "metadata": {},
   "outputs": [
    {
     "name": "stdin",
     "output_type": "stream",
     "text": [
      " Tell me your name: z8ues\n"
     ]
    },
    {
     "name": "stdout",
     "output_type": "stream",
     "text": [
      "Z\n"
     ]
    }
   ],
   "source": [
    "prompt = \" Tell me your name:\"\n",
    "user_input = input(prompt)\n",
    "result = user_input.upper()\n",
    "print(user_input[0].upper())"
   ]
  },
  {
   "cell_type": "code",
   "execution_count": null,
   "id": "033a390e-f8a1-45e2-b5ab-0077cfdd664f",
   "metadata": {},
   "outputs": [],
   "source": []
  }
 ],
 "metadata": {
  "kernelspec": {
   "display_name": "Python 3 (ipykernel)",
   "language": "python",
   "name": "python3"
  },
  "language_info": {
   "codemirror_mode": {
    "name": "ipython",
    "version": 3
   },
   "file_extension": ".py",
   "mimetype": "text/x-python",
   "name": "python",
   "nbconvert_exporter": "python",
   "pygments_lexer": "ipython3",
   "version": "3.10.18"
  }
 },
 "nbformat": 4,
 "nbformat_minor": 5
}
