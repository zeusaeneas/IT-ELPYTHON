{
 "cells": [
  {
   "cell_type": "markdown",
   "id": "1a365cd6-3ecd-4cf5-88c8-ea2edef1ac0f",
   "metadata": {},
   "source": [
    "# Review Question 7 "
   ]
  },
  {
   "cell_type": "code",
   "execution_count": 10,
   "id": "036ceeff-d4a6-4515-bf5b-aa57a3d9a1c3",
   "metadata": {},
   "outputs": [
    {
     "name": "stdin",
     "output_type": "stream",
     "text": [
      "Enter some text:  I like to eat raw ang eggs\n"
     ]
    },
    {
     "data": {
      "text/plain": [
       "'I 1ik3 70 347 r4w 4ng 3gg5'"
      ]
     },
     "execution_count": 10,
     "metadata": {},
     "output_type": "execute_result"
    }
   ],
   "source": [
    "prompt = \"Enter some text: \" \n",
    "text = input(prompt)\n",
    "text.replace(\"a\", \"4\").replace(\"b\", \"8\").replace(\"e\", \"3\").replace(\"l\", \"1\").replace(\"o\", \"0\").replace(\"s\", \"5\").replace(\"t\", \"7\")\n"
   ]
  }
 ],
 "metadata": {
  "kernelspec": {
   "display_name": "Python 3 (ipykernel)",
   "language": "python",
   "name": "python3"
  },
  "language_info": {
   "codemirror_mode": {
    "name": "ipython",
    "version": 3
   },
   "file_extension": ".py",
   "mimetype": "text/x-python",
   "name": "python",
   "nbconvert_exporter": "python",
   "pygments_lexer": "ipython3",
   "version": "3.13.5"
  }
 },
 "nbformat": 4,
 "nbformat_minor": 5
}
