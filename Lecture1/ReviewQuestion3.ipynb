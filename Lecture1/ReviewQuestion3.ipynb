{
 "cells": [
  {
   "cell_type": "markdown",
   "id": "8ecee142-fddc-4319-afdc-54a4712bc596",
   "metadata": {},
   "source": [
    "# Review Question 3"
   ]
  },
  {
   "cell_type": "code",
   "execution_count": 8,
   "id": "5b6bd1ac-3293-49de-9650-6cfbaff73f8d",
   "metadata": {},
   "outputs": [
    {
     "name": "stdin",
     "output_type": "stream",
     "text": [
      "Hi, what's your name Zeus Aeneas\n"
     ]
    },
    {
     "name": "stdout",
     "output_type": "stream",
     "text": [
      "You said: Zeus Aeneas\n"
     ]
    }
   ],
   "source": [
    "prompt = \"Hi, what's your name\"\n",
    "user_input = input(prompt)\n",
    "print(\"You said:\", user_input)"
   ]
  },
  {
   "cell_type": "code",
   "execution_count": 5,
   "id": "55003997-62a9-44d0-9d84-e1582d4749d7",
   "metadata": {},
   "outputs": [
    {
     "name": "stdin",
     "output_type": "stream",
     "text": [
      "Hi, what's your name Zeus Aeneas\n"
     ]
    },
    {
     "name": "stdout",
     "output_type": "stream",
     "text": [
      "You said: zeus aeneas\n"
     ]
    }
   ],
   "source": [
    "prompt = \"Hi, what's your name\"\n",
    "user_input = input(prompt)\n",
    "print(\"You said:\", user_input.lower())"
   ]
  },
  {
   "cell_type": "code",
   "execution_count": 6,
   "id": "be3535ce-51d5-4de2-8252-20482c7c578c",
   "metadata": {},
   "outputs": [
    {
     "name": "stdin",
     "output_type": "stream",
     "text": [
      "Hi, what's your name Zeus Aeneas\n"
     ]
    },
    {
     "name": "stdout",
     "output_type": "stream",
     "text": [
      "You said: zeus aeneas\n"
     ]
    },
    {
     "data": {
      "text/plain": [
       "11"
      ]
     },
     "execution_count": 6,
     "metadata": {},
     "output_type": "execute_result"
    }
   ],
   "source": [
    "prompt = \"Hi, what's your name\"\n",
    "user_input = input(prompt)\n",
    "print(\"You said:\", user_input.lower())\n",
    "len(user_input)"
   ]
  },
  {
   "cell_type": "code",
   "execution_count": null,
   "id": "8b1df1b3-d2b8-4668-99bd-f904fe8b798f",
   "metadata": {},
   "outputs": [],
   "source": []
  }
 ],
 "metadata": {
  "kernelspec": {
   "display_name": "Python 3 (ipykernel)",
   "language": "python",
   "name": "python3"
  },
  "language_info": {
   "codemirror_mode": {
    "name": "ipython",
    "version": 3
   },
   "file_extension": ".py",
   "mimetype": "text/x-python",
   "name": "python",
   "nbconvert_exporter": "python",
   "pygments_lexer": "ipython3",
   "version": "3.10.18"
  }
 },
 "nbformat": 4,
 "nbformat_minor": 5
}
