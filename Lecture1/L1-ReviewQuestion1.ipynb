{
 "cells": [
  {
   "cell_type": "markdown",
   "id": "0992a307-7903-42b8-a0fd-ff693f4b468b",
   "metadata": {},
   "source": [
    "# Review Question 1"
   ]
  },
  {
   "cell_type": "code",
   "execution_count": 3,
   "id": "4bf25ee5-5ce4-4515-9ae9-6dfc024b0e4b",
   "metadata": {},
   "outputs": [
    {
     "data": {
      "text/plain": [
       "4"
      ]
     },
     "execution_count": 3,
     "metadata": {},
     "output_type": "execute_result"
    }
   ],
   "source": [
    "var1 = \"Zeus\"\n",
    "len(var1)"
   ]
  },
  {
   "cell_type": "code",
   "execution_count": 4,
   "id": "c12760a1-bea8-4fe5-a316-504ed40bc31b",
   "metadata": {},
   "outputs": [
    {
     "data": {
      "text/plain": [
       "6"
      ]
     },
     "execution_count": 4,
     "metadata": {},
     "output_type": "execute_result"
    }
   ],
   "source": [
    "var2 = \"Aeneas\"\n",
    "len(var2)"
   ]
  },
  {
   "cell_type": "code",
   "execution_count": 10,
   "id": "e10bf694-18f7-4615-815a-bbd0fcddf9bf",
   "metadata": {},
   "outputs": [
    {
     "data": {
      "text/plain": [
       "'ZeusAeneas'"
      ]
     },
     "execution_count": 10,
     "metadata": {},
     "output_type": "execute_result"
    }
   ],
   "source": [
    "var1 = \"Zeus\"\n",
    "var2 = \"Aeneas\" \n",
    "var_string = var1 + var2 \n",
    "var_string"
   ]
  },
  {
   "cell_type": "code",
   "execution_count": 12,
   "id": "ca7760af-ddcd-49e5-976f-d68ac08c2d10",
   "metadata": {},
   "outputs": [
    {
     "data": {
      "text/plain": [
       "'Zeus Aeneas'"
      ]
     },
     "execution_count": 12,
     "metadata": {},
     "output_type": "execute_result"
    }
   ],
   "source": [
    "var1 = \"Zeus\"\n",
    "var2 = \"Aeneas\"\n",
    "var_string = var1 + \" \" + var2\n",
    "var_string"
   ]
  },
  {
   "cell_type": "code",
   "execution_count": 13,
   "id": "9b53f5a2-1f60-4e3b-a44c-63593ea72c34",
   "metadata": {},
   "outputs": [
    {
     "data": {
      "text/plain": [
       "'The quick brown fox jumped over the lazy dog.'"
      ]
     },
     "execution_count": 13,
     "metadata": {},
     "output_type": "execute_result"
    }
   ],
   "source": [
    "string1 = \"The quick brown fox\"\n",
    "string2 = \"jumped over the lazy dog.\"\n",
    "animal = string1 + \" \" + string2\n",
    "animal"
   ]
  },
  {
   "cell_type": "code",
   "execution_count": 16,
   "id": "81966adc-716e-4093-92ca-97ee9f384331",
   "metadata": {},
   "outputs": [
    {
     "data": {
      "text/plain": [
       "'fox'"
      ]
     },
     "execution_count": 16,
     "metadata": {},
     "output_type": "execute_result"
    }
   ],
   "source": [
    "animal[16:19]"
   ]
  },
  {
   "cell_type": "code",
   "execution_count": null,
   "id": "7093ee16-c6f6-4c2e-b098-f3b545da82b5",
   "metadata": {},
   "outputs": [],
   "source": []
  }
 ],
 "metadata": {
  "kernelspec": {
   "display_name": "Python 3 (ipykernel)",
   "language": "python",
   "name": "python3"
  },
  "language_info": {
   "codemirror_mode": {
    "name": "ipython",
    "version": 3
   },
   "file_extension": ".py",
   "mimetype": "text/x-python",
   "name": "python",
   "nbconvert_exporter": "python",
   "pygments_lexer": "ipython3",
   "version": "3.13.5"
  }
 },
 "nbformat": 4,
 "nbformat_minor": 5
}
