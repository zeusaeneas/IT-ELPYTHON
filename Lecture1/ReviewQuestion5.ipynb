{
 "cells": [
  {
   "cell_type": "markdown",
   "id": "858d2d78-9d42-4d29-859d-5bccf00e486e",
   "metadata": {},
   "source": [
    "# Review Question 5 "
   ]
  },
  {
   "cell_type": "code",
   "execution_count": 1,
   "id": "8fb03516-016c-4f06-826f-f49b0165a663",
   "metadata": {},
   "outputs": [
    {
     "data": {
      "text/plain": [
       "28"
      ]
     },
     "execution_count": 1,
     "metadata": {},
     "output_type": "execute_result"
    }
   ],
   "source": [
    "num1 = '28'\n",
    "num2 = int(num1)\n",
    "num2"
   ]
  },
  {
   "cell_type": "code",
   "execution_count": 2,
   "id": "0506c135-3307-4ef2-99b8-fda7218198c3",
   "metadata": {},
   "outputs": [
    {
     "data": {
      "text/plain": [
       "'28282828'"
      ]
     },
     "execution_count": 2,
     "metadata": {},
     "output_type": "execute_result"
    }
   ],
   "source": [
    "num1 = '28'\n",
    "num2 = 4\n",
    "num1 * num2"
   ]
  },
  {
   "cell_type": "code",
   "execution_count": 3,
   "id": "e5376a5c-4bd3-4121-b4b1-3247f2e431b3",
   "metadata": {},
   "outputs": [
    {
     "data": {
      "text/plain": [
       "28.0"
      ]
     },
     "execution_count": 3,
     "metadata": {},
     "output_type": "execute_result"
    }
   ],
   "source": [
    "num1 = '28'\n",
    "num2 = float(num1)\n",
    "num2"
   ]
  },
  {
   "cell_type": "code",
   "execution_count": 11,
   "id": "8718318c-2c21-481f-8e59-50aba14f36bb",
   "metadata": {},
   "outputs": [
    {
     "ename": "NameError",
     "evalue": "name 'string' is not defined",
     "output_type": "error",
     "traceback": [
      "\u001b[1;31m---------------------------------------------------------------------------\u001b[0m",
      "\u001b[1;31mNameError\u001b[0m                                 Traceback (most recent call last)",
      "Cell \u001b[1;32mIn[11], line 3\u001b[0m\n\u001b[0;32m      1\u001b[0m num1 \u001b[38;5;241m=\u001b[39m \u001b[38;5;124m'\u001b[39m\u001b[38;5;124m28\u001b[39m\u001b[38;5;124m'\u001b[39m\n\u001b[0;32m      2\u001b[0m num2 \u001b[38;5;241m=\u001b[39m \u001b[38;5;241m4\u001b[39m\n\u001b[1;32m----> 3\u001b[0m \u001b[38;5;28mprint\u001b[39m(\u001b[38;5;28mstr\u001b[39m(\u001b[43mstring\u001b[49m),\u001b[38;5;28mstr\u001b[39m(number))\n",
      "\u001b[1;31mNameError\u001b[0m: name 'string' is not defined"
     ]
    }
   ],
   "source": []
  },
  {
   "cell_type": "code",
   "execution_count": null,
   "id": "903e3c26-4afc-499d-8b1d-35d71d4138f1",
   "metadata": {},
   "outputs": [],
   "source": []
  }
 ],
 "metadata": {
  "kernelspec": {
   "display_name": "Python 3 (ipykernel)",
   "language": "python",
   "name": "python3"
  },
  "language_info": {
   "codemirror_mode": {
    "name": "ipython",
    "version": 3
   },
   "file_extension": ".py",
   "mimetype": "text/x-python",
   "name": "python",
   "nbconvert_exporter": "python",
   "pygments_lexer": "ipython3",
   "version": "3.10.18"
  }
 },
 "nbformat": 4,
 "nbformat_minor": 5
}
